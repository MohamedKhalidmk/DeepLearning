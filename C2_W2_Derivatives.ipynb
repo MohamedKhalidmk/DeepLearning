{
  "cells": [
    {
      "cell_type": "markdown",
      "metadata": {
        "id": "view-in-github",
        "colab_type": "text"
      },
      "source": [
        "<a href=\"https://colab.research.google.com/github/MohamedKhalidmk/DeepLearning/blob/main/C2_W2_Derivatives.ipynb\" target=\"_parent\"><img src=\"https://colab.research.google.com/assets/colab-badge.svg\" alt=\"Open In Colab\"/></a>"
      ]
    },
    {
      "cell_type": "markdown",
      "metadata": {
        "tags": [],
        "id": "5JawRU-165Zj"
      },
      "source": [
        "# Optional Lab - Derivatives\n",
        "This lab will give you a more intuitive understanding of derivatives. It will show you a simple way of calculating derivatives arithmetically. It will also introduce you to a handy Python library that allows you to calculate derivatives symbolically."
      ],
      "id": "5JawRU-165Zj"
    },
    {
      "cell_type": "code",
      "execution_count": null,
      "metadata": {
        "id": "twQhgNY665Zn"
      },
      "outputs": [],
      "source": [
        "from sympy import symbols, diff"
      ],
      "id": "twQhgNY665Zn"
    },
    {
      "cell_type": "markdown",
      "metadata": {
        "id": "adfMaflT65Zp"
      },
      "source": [
        "## Informal definition of derivatives"
      ],
      "id": "adfMaflT65Zp"
    },
    {
      "cell_type": "markdown",
      "metadata": {
        "id": "eSNv4WRo65Zp"
      },
      "source": [
        "The formal definition of derivatives can be a bit daunting with limits and values 'going to zero'. The idea is really much simpler.\n",
        "\n",
        "The derivative of a function describes how the output of a function changes when there is a small change in an input variable.\n",
        "\n",
        "Let's use the cost function $J(w)$ as an example. The cost $J$ is the output and $w$ is the input variable.  \n",
        "Let's give a 'small change' a name *epsilon* or $\\epsilon$. We use these Greek letters because it is traditional in mathematics to use *epsilon*($\\epsilon$) or *delta* ($\\Delta$) to represent a small value. You can think of it as representing 0.001 or some other small value.  \n",
        "\n",
        "$$\n",
        "\\begin{equation}\n",
        "\\text{if } w \\uparrow \\epsilon \\text{ causes }J(w) \\uparrow \\text{by }k \\times \\epsilon \\text{ then}  \\\\\n",
        "\\frac{\\partial J(w)}{\\partial w} = k \\tag{1}\n",
        "\\end{equation}\n",
        "$$\n",
        "\n",
        "This just says if you change the input to the function $J(w)$ by a little bit and the output changes by $k$ times that little bit, then the derivative of $J(w)$ is equal to $k$.\n",
        "\n",
        "Let's try this out.  Let's look at the derivative of the function $J(w) = w^2$ at the point $w=3$ and $\\epsilon = 0.001$"
      ],
      "id": "eSNv4WRo65Zp"
    },
    {
      "cell_type": "code",
      "execution_count": null,
      "metadata": {
        "id": "dwAmdadQ65Zq",
        "outputId": "3fc0d62e-ef89-4fa7-e997-33785e46781a"
      },
      "outputs": [
        {
          "name": "stdout",
          "output_type": "stream",
          "text": [
            "J = 9, J_epsilon = 9.006001, dJ_dw ~= k = 6.001000 \n"
          ]
        }
      ],
      "source": [
        "J = (3)**2\n",
        "J_epsilon = (3 + 0.001)**2\n",
        "k = (J_epsilon - J)/0.001    # difference divided by epsilon\n",
        "print(f\"J = {J}, J_epsilon = {J_epsilon}, dJ_dw ~= k = {k:0.6f} \")"
      ],
      "id": "dwAmdadQ65Zq"
    },
    {
      "cell_type": "markdown",
      "metadata": {
        "id": "VOE7Zwya65Zr"
      },
      "source": [
        "We have increased the input value a little bit (0.001), causing the output to change from 9 to 9.006001, an increase of 6 times the input increase. Referencing (1) above, this says that $k=6$, so $\\frac{\\partial J(w)}{\\partial w} \\approx 6$. If you are familiar with calculus, you know, written symbolically,  $\\frac{\\partial J(w)}{\\partial w} = 2 w$. With $w=3$ this is 6. Our calculation above is not exactly 6 because to be exactly correct $\\epsilon$ would need to be [infinitesimally small](https://www.dictionary.com/browse/infinitesimally) or really, really small. That is why we use the symbols $\\approx$ or ~= rather than =. Let's see what happens if we make $\\epsilon$ smaller."
      ],
      "id": "VOE7Zwya65Zr"
    },
    {
      "cell_type": "code",
      "execution_count": null,
      "metadata": {
        "id": "LchncdEL65Zr",
        "outputId": "6eba4001-e044-4b36-e6e9-a14121636ae9"
      },
      "outputs": [
        {
          "name": "stdout",
          "output_type": "stream",
          "text": [
            "J = 9, J_epsilon = 9.000000006, dJ_dw ~= k = 6.000000496442226 \n"
          ]
        }
      ],
      "source": [
        "J = (3)**2\n",
        "J_epsilon = (3 + 0.000000001)**2\n",
        "k = (J_epsilon - J)/0.000000001\n",
        "print(f\"J = {J}, J_epsilon = {J_epsilon}, dJ_dw ~= k = {k} \")"
      ],
      "id": "LchncdEL65Zr"
    },
    {
      "cell_type": "markdown",
      "metadata": {
        "id": "roFOx5YC65Zs"
      },
      "source": [
        "The value gets close to exactly 6 as we reduce the size of $\\epsilon$. Feel free to try reducing the value further."
      ],
      "id": "roFOx5YC65Zs"
    },
    {
      "cell_type": "markdown",
      "metadata": {
        "id": "Kb5bO3UO65Zs"
      },
      "source": [
        "## Finding symbolic derivatives\n",
        "In backprop it is useful to know the derivative of simple functions at any input value. Put another way, we would like to know the 'symbolic' derivative rather than the 'arithmetic' derivative. An example of a symbolic derivative is,  $\\frac{\\partial J(w)}{\\partial w} = 2 w$, the derivative of $J(w) = w^2$ above.  With the symbolic derivative you can find the value of the derivative at any input value $w$.  \n",
        "\n",
        "If you have taken a calculus course, you are familiar with the many [differentiation rules](https://en.wikipedia.org/wiki/Differentiation_rules#Power_laws,_polynomials,_quotients,_and_reciprocals) that mathematicians have developed to solve for a derivative given an expression. Well, it turns out this process has been automated with symbolic differentiation programs. An example of this in python is the [SymPy](https://www.sympy.org/en/index.html) library. Let's take a look at how to use this."
      ],
      "id": "Kb5bO3UO65Zs"
    },
    {
      "cell_type": "markdown",
      "metadata": {
        "id": "8yGSg7sg65Zs"
      },
      "source": [
        "### $J = w^2$\n",
        "Define the python variables and their symbolic names."
      ],
      "id": "8yGSg7sg65Zs"
    },
    {
      "cell_type": "code",
      "execution_count": null,
      "metadata": {
        "id": "08VqfHuQ65Zs"
      },
      "outputs": [],
      "source": [
        "J, w = symbols('J, w')"
      ],
      "id": "08VqfHuQ65Zs"
    },
    {
      "cell_type": "markdown",
      "metadata": {
        "id": "Hy-knmjU65Zs"
      },
      "source": [
        "Define and print the expression. Note SymPy produces a [latex](https://en.wikibooks.org/wiki/LaTeX/Mathematics) string which generates a nicely readable equation."
      ],
      "id": "Hy-knmjU65Zs"
    },
    {
      "cell_type": "code",
      "execution_count": null,
      "metadata": {
        "id": "8YEEChxS65Zt",
        "outputId": "3497e235-2e89-4cf6-b093-e95b0c4b25f4"
      },
      "outputs": [
        {
          "data": {
            "text/latex": [
              "$\\displaystyle w^{2}$"
            ],
            "text/plain": [
              "w**2"
            ]
          },
          "execution_count": 6,
          "metadata": {},
          "output_type": "execute_result"
        }
      ],
      "source": [
        "J=w**2\n",
        "J"
      ],
      "id": "8YEEChxS65Zt"
    },
    {
      "cell_type": "markdown",
      "metadata": {
        "id": "jCFTyOiE65Zt"
      },
      "source": [
        "Use SymPy's `diff` to differentiate the expression for $J$ with respect to $w$. Note the result matches our earlier example."
      ],
      "id": "jCFTyOiE65Zt"
    },
    {
      "cell_type": "code",
      "execution_count": null,
      "metadata": {
        "id": "81s0WkRr65Zt",
        "outputId": "4afacc23-1b78-4d8d-df49-a54728916cfd"
      },
      "outputs": [
        {
          "data": {
            "text/latex": [
              "$\\displaystyle 2 w$"
            ],
            "text/plain": [
              "2*w"
            ]
          },
          "execution_count": 7,
          "metadata": {},
          "output_type": "execute_result"
        }
      ],
      "source": [
        "dJ_dw = diff(J,w)\n",
        "dJ_dw"
      ],
      "id": "81s0WkRr65Zt"
    },
    {
      "cell_type": "markdown",
      "metadata": {
        "id": "pkK0I8tB65Zt"
      },
      "source": [
        "Evaluate the derivative at a few points by 'substituting' numeric values for the symbolic values. In the first example, $w$ is replaced by $2$."
      ],
      "id": "pkK0I8tB65Zt"
    },
    {
      "cell_type": "code",
      "execution_count": null,
      "metadata": {
        "id": "HR3Xplt565Zu",
        "outputId": "255d86b3-6ee4-4bb2-b07e-5518bce621fa"
      },
      "outputs": [
        {
          "data": {
            "text/latex": [
              "$\\displaystyle 4$"
            ],
            "text/plain": [
              "4"
            ]
          },
          "execution_count": 8,
          "metadata": {},
          "output_type": "execute_result"
        }
      ],
      "source": [
        "dJ_dw.subs([(w,2)])    # derivative at the point w = 2"
      ],
      "id": "HR3Xplt565Zu"
    },
    {
      "cell_type": "code",
      "execution_count": null,
      "metadata": {
        "scrolled": true,
        "id": "Pg3ncZQL65Zu",
        "outputId": "ec52ab6e-28ae-4b5c-9750-33bcdfddd6b1"
      },
      "outputs": [
        {
          "data": {
            "text/latex": [
              "$\\displaystyle 6$"
            ],
            "text/plain": [
              "6"
            ]
          },
          "execution_count": 9,
          "metadata": {},
          "output_type": "execute_result"
        }
      ],
      "source": [
        "dJ_dw.subs([(w,3)])    # derivative at the point w = 3"
      ],
      "id": "Pg3ncZQL65Zu"
    },
    {
      "cell_type": "code",
      "execution_count": null,
      "metadata": {
        "id": "ULEB5iIw65Zu",
        "outputId": "1591c29d-ed56-4b33-cbb9-fd5ccedca174"
      },
      "outputs": [
        {
          "data": {
            "text/latex": [
              "$\\displaystyle -6$"
            ],
            "text/plain": [
              "-6"
            ]
          },
          "execution_count": 10,
          "metadata": {},
          "output_type": "execute_result"
        }
      ],
      "source": [
        "dJ_dw.subs([(w,-3)])    # derivative at the point w = -3"
      ],
      "id": "ULEB5iIw65Zu"
    },
    {
      "cell_type": "markdown",
      "metadata": {
        "id": "-WpGoHT365Zu"
      },
      "source": [
        "## $J = 2w$"
      ],
      "id": "-WpGoHT365Zu"
    },
    {
      "cell_type": "code",
      "execution_count": null,
      "metadata": {
        "tags": [],
        "id": "Xav1q87C65Zu"
      },
      "outputs": [],
      "source": [
        "w, J = symbols('w, J')"
      ],
      "id": "Xav1q87C65Zu"
    },
    {
      "cell_type": "code",
      "execution_count": null,
      "metadata": {
        "id": "Vh00qbA-65Zv",
        "outputId": "b519b01f-02d6-4d9c-c04a-ec7f95aa76cb"
      },
      "outputs": [
        {
          "data": {
            "text/latex": [
              "$\\displaystyle 2 w$"
            ],
            "text/plain": [
              "2*w"
            ]
          },
          "execution_count": 12,
          "metadata": {},
          "output_type": "execute_result"
        }
      ],
      "source": [
        "J = 2 * w\n",
        "J"
      ],
      "id": "Vh00qbA-65Zv"
    },
    {
      "cell_type": "code",
      "execution_count": null,
      "metadata": {
        "tags": [],
        "id": "oJzo4eSD65Zv",
        "outputId": "fabc1e01-74dd-4e22-ccf9-488384a9143b"
      },
      "outputs": [
        {
          "data": {
            "text/latex": [
              "$\\displaystyle 2$"
            ],
            "text/plain": [
              "2"
            ]
          },
          "execution_count": 13,
          "metadata": {},
          "output_type": "execute_result"
        }
      ],
      "source": [
        "dJ_dw = diff(J,w)\n",
        "dJ_dw"
      ],
      "id": "oJzo4eSD65Zv"
    },
    {
      "cell_type": "code",
      "execution_count": null,
      "metadata": {
        "id": "BkM_g_9z65Zv",
        "outputId": "b0799b7d-a369-4d28-f1f6-cceed72530da"
      },
      "outputs": [
        {
          "data": {
            "text/latex": [
              "$\\displaystyle 2$"
            ],
            "text/plain": [
              "2"
            ]
          },
          "execution_count": 14,
          "metadata": {},
          "output_type": "execute_result"
        }
      ],
      "source": [
        "dJ_dw.subs([(w,-3)])    # derivative at the point w = -3"
      ],
      "id": "BkM_g_9z65Zv"
    },
    {
      "cell_type": "markdown",
      "metadata": {
        "id": "5HdYp7x865Zv"
      },
      "source": [
        "Compare this with the arithmetic calculation"
      ],
      "id": "5HdYp7x865Zv"
    },
    {
      "cell_type": "code",
      "execution_count": null,
      "metadata": {
        "id": "YG73ciuM65Zv",
        "outputId": "c3efee90-7073-446a-e15d-1a258b23eaba"
      },
      "outputs": [
        {
          "name": "stdout",
          "output_type": "stream",
          "text": [
            "J = 6, J_epsilon = 6.002, dJ_dw ~= k = 1.9999999999997797 \n"
          ]
        }
      ],
      "source": [
        "J = 2*3\n",
        "J_epsilon = 2*(3 + 0.001)\n",
        "k = (J_epsilon - J)/0.001\n",
        "print(f\"J = {J}, J_epsilon = {J_epsilon}, dJ_dw ~= k = {k} \")"
      ],
      "id": "YG73ciuM65Zv"
    },
    {
      "cell_type": "markdown",
      "metadata": {
        "id": "uzOq8JbP65Zw"
      },
      "source": [
        "For the function $J=2w$, it is easy to see that any change in $w$ will result in 2 times that amount of change in the output $J$, regardless of the starting value of $w$. Our NumPy and arithmetic results confirm this."
      ],
      "id": "uzOq8JbP65Zw"
    },
    {
      "cell_type": "markdown",
      "metadata": {
        "id": "3s7jEpud65Zw"
      },
      "source": [
        "## $J = w^3$"
      ],
      "id": "3s7jEpud65Zw"
    },
    {
      "cell_type": "code",
      "execution_count": null,
      "metadata": {
        "id": "P1aU47hQ65Zw"
      },
      "outputs": [],
      "source": [
        "J, w = symbols('J, w')"
      ],
      "id": "P1aU47hQ65Zw"
    },
    {
      "cell_type": "code",
      "execution_count": null,
      "metadata": {
        "id": "KffZGZOm65Zw",
        "outputId": "64f97ef8-d701-4ad8-9fb5-6e100c17663c"
      },
      "outputs": [
        {
          "data": {
            "text/latex": [
              "$\\displaystyle w^{3}$"
            ],
            "text/plain": [
              "w**3"
            ]
          },
          "execution_count": 17,
          "metadata": {},
          "output_type": "execute_result"
        }
      ],
      "source": [
        "J=w**3\n",
        "J"
      ],
      "id": "KffZGZOm65Zw"
    },
    {
      "cell_type": "code",
      "execution_count": null,
      "metadata": {
        "id": "YpBiPFa865Zx",
        "outputId": "38f93803-a72a-444b-c0a3-36a876428e3d"
      },
      "outputs": [
        {
          "data": {
            "text/latex": [
              "$\\displaystyle 3 w^{2}$"
            ],
            "text/plain": [
              "3*w**2"
            ]
          },
          "execution_count": 18,
          "metadata": {},
          "output_type": "execute_result"
        }
      ],
      "source": [
        "dJ_dw = diff(J,w)\n",
        "dJ_dw"
      ],
      "id": "YpBiPFa865Zx"
    },
    {
      "cell_type": "code",
      "execution_count": null,
      "metadata": {
        "id": "3B9dQmO465Zx",
        "outputId": "c50b509a-6929-4473-b42f-0edaa4e170f5"
      },
      "outputs": [
        {
          "data": {
            "text/latex": [
              "$\\displaystyle 12$"
            ],
            "text/plain": [
              "12"
            ]
          },
          "execution_count": 19,
          "metadata": {},
          "output_type": "execute_result"
        }
      ],
      "source": [
        "dJ_dw.subs([(w,2)])   # derivative at the point w=2"
      ],
      "id": "3B9dQmO465Zx"
    },
    {
      "cell_type": "markdown",
      "metadata": {
        "id": "NlLVaKv065Zx"
      },
      "source": [
        "Compare this with the arithmetic calculation"
      ],
      "id": "NlLVaKv065Zx"
    },
    {
      "cell_type": "code",
      "execution_count": null,
      "metadata": {
        "id": "g3Q0CrJh65Zx",
        "outputId": "1c862fdc-11a3-4ea8-829f-75dd1eb799b3"
      },
      "outputs": [
        {
          "name": "stdout",
          "output_type": "stream",
          "text": [
            "J = 8, J_epsilon = 8.012006000999998, dJ_dw ~= k = 12.006000999997823 \n"
          ]
        }
      ],
      "source": [
        "J = (2)**3\n",
        "J_epsilon = (2+0.001)**3\n",
        "k = (J_epsilon - J)/0.001\n",
        "print(f\"J = {J}, J_epsilon = {J_epsilon}, dJ_dw ~= k = {k} \")\n"
      ],
      "id": "g3Q0CrJh65Zx"
    },
    {
      "cell_type": "markdown",
      "metadata": {
        "id": "kyV6fryu65Zy"
      },
      "source": [
        "## $J = \\frac{1}{w}$"
      ],
      "id": "kyV6fryu65Zy"
    },
    {
      "cell_type": "code",
      "execution_count": null,
      "metadata": {
        "id": "mOWXL46465Zy"
      },
      "outputs": [],
      "source": [
        "J, w = symbols('J, w')"
      ],
      "id": "mOWXL46465Zy"
    },
    {
      "cell_type": "code",
      "execution_count": null,
      "metadata": {
        "id": "NCwRpIDF65Zy",
        "outputId": "0e5b0ca5-9deb-4739-a630-118ea10b6679"
      },
      "outputs": [
        {
          "data": {
            "text/latex": [
              "$\\displaystyle \\frac{1}{w}$"
            ],
            "text/plain": [
              "1/w"
            ]
          },
          "execution_count": 22,
          "metadata": {},
          "output_type": "execute_result"
        }
      ],
      "source": [
        "J= 1/w\n",
        "J"
      ],
      "id": "NCwRpIDF65Zy"
    },
    {
      "cell_type": "code",
      "execution_count": null,
      "metadata": {
        "id": "itEq6vqG65Zz",
        "outputId": "9fcb4846-33d6-47fb-b597-8b94c8f511c8"
      },
      "outputs": [
        {
          "data": {
            "text/latex": [
              "$\\displaystyle - \\frac{1}{w^{2}}$"
            ],
            "text/plain": [
              "-1/w**2"
            ]
          },
          "execution_count": 23,
          "metadata": {},
          "output_type": "execute_result"
        }
      ],
      "source": [
        "dJ_dw = diff(J,w)\n",
        "dJ_dw"
      ],
      "id": "itEq6vqG65Zz"
    },
    {
      "cell_type": "code",
      "execution_count": null,
      "metadata": {
        "id": "928Cj5ZK65Zz",
        "outputId": "55988a78-66e0-4046-99c9-85a1a0ecd4f1"
      },
      "outputs": [
        {
          "data": {
            "text/latex": [
              "$\\displaystyle - \\frac{1}{4}$"
            ],
            "text/plain": [
              "-1/4"
            ]
          },
          "execution_count": 24,
          "metadata": {},
          "output_type": "execute_result"
        }
      ],
      "source": [
        "dJ_dw.subs([(w,2)])"
      ],
      "id": "928Cj5ZK65Zz"
    },
    {
      "cell_type": "markdown",
      "metadata": {
        "id": "1dSOPv-065Zz"
      },
      "source": [
        "Compare this with the arithmetic calculation"
      ],
      "id": "1dSOPv-065Zz"
    },
    {
      "cell_type": "code",
      "execution_count": null,
      "metadata": {
        "id": "RX-ZfBGx65Z0",
        "outputId": "a51c6ef1-9610-436b-f505-4a819632dc3d"
      },
      "outputs": [
        {
          "name": "stdout",
          "output_type": "stream",
          "text": [
            "J = 0.5, J_epsilon = 0.49975012493753124, dJ_dw ~= k = -0.2498750624687629 \n"
          ]
        }
      ],
      "source": [
        "J = 1/2\n",
        "J_epsilon = 1/(2+0.001)\n",
        "k = (J_epsilon - J)/0.001\n",
        "print(f\"J = {J}, J_epsilon = {J_epsilon}, dJ_dw ~= k = {k} \")"
      ],
      "id": "RX-ZfBGx65Z0"
    },
    {
      "cell_type": "markdown",
      "metadata": {
        "id": "vrstKw-x65Z0"
      },
      "source": [
        "## $J = \\frac{1}{w^2}$"
      ],
      "id": "vrstKw-x65Z0"
    },
    {
      "cell_type": "code",
      "execution_count": null,
      "metadata": {
        "id": "lxYpoxv965Z0"
      },
      "outputs": [],
      "source": [
        "import sympy\n",
        "J, w = symbols('J, w')"
      ],
      "id": "lxYpoxv965Z0"
    },
    {
      "cell_type": "markdown",
      "metadata": {
        "id": "v7NEXmIk65Z0"
      },
      "source": [
        "If you have time, try to repeat the above steps on the function  $J = \\frac{1}{w^2}$ and evaluate at w=4"
      ],
      "id": "v7NEXmIk65Z0"
    },
    {
      "cell_type": "code",
      "execution_count": null,
      "metadata": {
        "id": "lSDtY2-765Z0",
        "outputId": "94771a52-1901-4941-cdc7-a7ed94c7e600"
      },
      "outputs": [
        {
          "data": {
            "text/latex": [
              "$\\displaystyle \\frac{1}{w^{2}}$"
            ],
            "text/plain": [
              "w**(-2)"
            ]
          },
          "execution_count": 40,
          "metadata": {},
          "output_type": "execute_result"
        }
      ],
      "source": [
        "J=1/(w**2)\n",
        "J"
      ],
      "id": "lSDtY2-765Z0"
    },
    {
      "cell_type": "code",
      "execution_count": null,
      "metadata": {
        "id": "_NMPcpx865Z0",
        "outputId": "b68763f3-f4da-4de6-c321-b6ba0aaf53e0"
      },
      "outputs": [
        {
          "data": {
            "text/latex": [
              "$\\displaystyle - \\frac{2}{w^{3}}$"
            ],
            "text/plain": [
              "-2/w**3"
            ]
          },
          "execution_count": 41,
          "metadata": {},
          "output_type": "execute_result"
        }
      ],
      "source": [
        "dy=sympy.diff(J,w)\n",
        "dy"
      ],
      "id": "_NMPcpx865Z0"
    },
    {
      "cell_type": "code",
      "execution_count": null,
      "metadata": {
        "id": "MZu6tgYD65Z0",
        "outputId": "20fafc1e-df35-4053-f867-323551259d3e"
      },
      "outputs": [
        {
          "ename": "TypeError",
          "evalue": "'Symbol' object is not subscriptable",
          "output_type": "error",
          "traceback": [
            "\u001b[0;31m---------------------------------------------------------------------------\u001b[0m",
            "\u001b[0;31mTypeError\u001b[0m                                 Traceback (most recent call last)",
            "\u001b[0;32m<ipython-input-42-833efe6c0db1>\u001b[0m in \u001b[0;36m<module>\u001b[0;34m\u001b[0m\n\u001b[0;32m----> 1\u001b[0;31m \u001b[0mdy\u001b[0m\u001b[0;34m.\u001b[0m\u001b[0msubs\u001b[0m\u001b[0;34m(\u001b[0m\u001b[0;34m[\u001b[0m\u001b[0mw\u001b[0m\u001b[0;34m,\u001b[0m\u001b[0;36m2\u001b[0m\u001b[0;34m]\u001b[0m\u001b[0;34m)\u001b[0m\u001b[0;34m\u001b[0m\u001b[0;34m\u001b[0m\u001b[0m\n\u001b[0m",
            "\u001b[0;32m/opt/conda/lib/python3.7/site-packages/sympy/core/basic.py\u001b[0m in \u001b[0;36msubs\u001b[0;34m(self, *args, **kwargs)\u001b[0m\n\u001b[1;32m    944\u001b[0m         \u001b[0msequence\u001b[0m \u001b[0;34m=\u001b[0m \u001b[0mlist\u001b[0m\u001b[0;34m(\u001b[0m\u001b[0msequence\u001b[0m\u001b[0;34m)\u001b[0m\u001b[0;34m\u001b[0m\u001b[0;34m\u001b[0m\u001b[0m\n\u001b[1;32m    945\u001b[0m         \u001b[0;32mfor\u001b[0m \u001b[0mi\u001b[0m\u001b[0;34m,\u001b[0m \u001b[0ms\u001b[0m \u001b[0;32min\u001b[0m \u001b[0menumerate\u001b[0m\u001b[0;34m(\u001b[0m\u001b[0msequence\u001b[0m\u001b[0;34m)\u001b[0m\u001b[0;34m:\u001b[0m\u001b[0;34m\u001b[0m\u001b[0;34m\u001b[0m\u001b[0m\n\u001b[0;32m--> 946\u001b[0;31m             \u001b[0;32mif\u001b[0m \u001b[0misinstance\u001b[0m\u001b[0;34m(\u001b[0m\u001b[0ms\u001b[0m\u001b[0;34m[\u001b[0m\u001b[0;36m0\u001b[0m\u001b[0;34m]\u001b[0m\u001b[0;34m,\u001b[0m \u001b[0mstring_types\u001b[0m\u001b[0;34m)\u001b[0m\u001b[0;34m:\u001b[0m\u001b[0;34m\u001b[0m\u001b[0;34m\u001b[0m\u001b[0m\n\u001b[0m\u001b[1;32m    947\u001b[0m                 \u001b[0;31m# when old is a string we prefer Symbol\u001b[0m\u001b[0;34m\u001b[0m\u001b[0;34m\u001b[0m\u001b[0;34m\u001b[0m\u001b[0m\n\u001b[1;32m    948\u001b[0m                 \u001b[0ms\u001b[0m \u001b[0;34m=\u001b[0m \u001b[0mSymbol\u001b[0m\u001b[0;34m(\u001b[0m\u001b[0ms\u001b[0m\u001b[0;34m[\u001b[0m\u001b[0;36m0\u001b[0m\u001b[0;34m]\u001b[0m\u001b[0;34m)\u001b[0m\u001b[0;34m,\u001b[0m \u001b[0ms\u001b[0m\u001b[0;34m[\u001b[0m\u001b[0;36m1\u001b[0m\u001b[0;34m]\u001b[0m\u001b[0;34m\u001b[0m\u001b[0;34m\u001b[0m\u001b[0m\n",
            "\u001b[0;31mTypeError\u001b[0m: 'Symbol' object is not subscriptable"
          ]
        }
      ],
      "source": [
        "dy.subs([w,2])"
      ],
      "id": "MZu6tgYD65Z0"
    },
    {
      "cell_type": "markdown",
      "metadata": {
        "id": "-KHf8p8a65Z0"
      },
      "source": [
        "Compare this with the arithmetic calculation"
      ],
      "id": "-KHf8p8a65Z0"
    },
    {
      "cell_type": "code",
      "execution_count": null,
      "metadata": {
        "id": "jWwngZsq65Z1"
      },
      "outputs": [],
      "source": [
        "J = 1/4**2\n",
        "J_epsilon = 1/(4+0.001)**2\n",
        "k = (J_epsilon - J)/0.001\n",
        "print(f\"J = {J}, J_epsilon = {J_epsilon}, dJ_dw ~= k = {k} \")"
      ],
      "id": "jWwngZsq65Z1"
    },
    {
      "cell_type": "markdown",
      "metadata": {
        "id": "LkcoRZl-65Z1"
      },
      "source": [
        "<details>\n",
        "  <summary><font size=\"3\" color=\"darkgreen\"><b>Click for hints</b></font></summary>\n",
        "    \n",
        "```python\n",
        "J= 1/w**2\n",
        "dJ_dw = diff(J,w)\n",
        "dJ_dw.subs([(w,4)])\n",
        "```\n",
        "  \n",
        "\n",
        "</details>\n",
        "\n",
        "    \n"
      ],
      "id": "LkcoRZl-65Z1"
    },
    {
      "cell_type": "markdown",
      "metadata": {
        "id": "nEocHPT465Z1"
      },
      "source": [
        "## Congratulations!\n",
        "If you have run through the above examples, you understand a derivative describes the change in the output of a function that is a result of a small change in an input to that function. You also can use *SymPy* in python to find the symbolic derivative of functions."
      ],
      "id": "nEocHPT465Z1"
    }
  ],
  "metadata": {
    "kernelspec": {
      "display_name": "Python 3",
      "language": "python",
      "name": "python3"
    },
    "language_info": {
      "codemirror_mode": {
        "name": "ipython",
        "version": 3
      },
      "file_extension": ".py",
      "mimetype": "text/x-python",
      "name": "python",
      "nbconvert_exporter": "python",
      "pygments_lexer": "ipython3",
      "version": "3.7.6"
    },
    "colab": {
      "provenance": [],
      "include_colab_link": true
    }
  },
  "nbformat": 4,
  "nbformat_minor": 5
}